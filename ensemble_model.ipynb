{
 "cells": [
  {
   "cell_type": "code",
   "execution_count": null,
   "id": "00b14b60",
   "metadata": {},
   "outputs": [],
   "source": [
    "# Cell 1: Imports\n",
    "import joblib\n",
    "import numpy as np\n",
    "\n",
    "from credit_models import modelValuation\n"
   ]
  },
  {
   "cell_type": "code",
   "execution_count": null,
   "id": "6f6fba5e",
   "metadata": {},
   "outputs": [],
   "source": [
    "# Cell 2: Load predictions from each model\n",
    "proba_lgb  = joblib.load(\"proba_lightgbm.pkl\")\n",
    "proba_rf   = joblib.load(\"proba_rf.pkl\")\n",
    "proba_cb   = joblib.load(\"proba_cb.pkl\")\n",
    "proba_tab  = joblib.load(\"proba_tab.pkl\")\n",
    "Y_test     = joblib.load(\"Y_test.pkl\")\n"
   ]
  },
  {
   "cell_type": "code",
   "execution_count": null,
   "id": "ff0cf8d5",
   "metadata": {},
   "outputs": [],
   "source": [
    "# Cell 3: Average probabilities and make final prediction\n",
    "all_probas = [proba_lgb, proba_rf, proba_cb, proba_tab]\n",
    "avg_proba = np.mean(all_probas, axis=0)\n",
    "y_pred_ensemble, chosen_thresh = modelValuation(\n",
    "    \"Ensemble (equal‐weight avg)\", Y_test, avg_proba, use_best_threshold= True\n",
    ")\n"
   ]
  },
  {
   "cell_type": "code",
   "execution_count": null,
   "id": "f632ca24",
   "metadata": {},
   "outputs": [],
   "source": [
    "y_pred_ensemble, chosen_thresh = modelValuation(\n",
    "    \"Ensemble (equal-weight avg)\", Y_test, avg_proba, use_best_threshold=False\n",
    ")"
   ]
  },
  {
   "cell_type": "code",
   "execution_count": null,
   "id": "6b561036",
   "metadata": {},
   "outputs": [],
   "source": []
  }
 ],
 "metadata": {
  "kernelspec": {
   "display_name": "Python 3",
   "language": "python",
   "name": "python3"
  },
  "language_info": {
   "codemirror_mode": {
    "name": "ipython",
    "version": 3
   },
   "file_extension": ".py",
   "mimetype": "text/x-python",
   "name": "python",
   "nbconvert_exporter": "python",
   "pygments_lexer": "ipython3",
   "version": "3.10.0"
  }
 },
 "nbformat": 4,
 "nbformat_minor": 5
}

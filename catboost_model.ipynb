{
 "cells": [
  {
   "cell_type": "code",
   "execution_count": null,
   "id": "f3ecfcd3",
   "metadata": {},
   "outputs": [],
   "source": [
    "from data_loader import load_and_prepare_data\n",
    "from credit_models import modelValuation\n",
    "from catboost import CatBoostClassifier\n",
    "from tuner import tune_model"
   ]
  },
  {
   "cell_type": "code",
   "execution_count": null,
   "id": "a88894fd",
   "metadata": {},
   "outputs": [],
   "source": [
    "(X_train, X_test, Y_train, Y_test), cat_features = load_and_prepare_data('catboost')\n",
    "\n",
    "best_params = tune_model(\"catboost\", X_train, Y_train, n_trials=20, n_splits=2, cat_features = cat_features)\n",
    "\n",
    "model = CatBoostClassifier(**best_params)\n",
    "model.fit(X_train, Y_train , cat_features= cat_features)\n",
    "\n",
    "y_proba = model.predict_proba(X_test)[:, 1]\n"
   ]
  },
  {
   "cell_type": "code",
   "execution_count": null,
   "id": "e857b25d",
   "metadata": {},
   "outputs": [],
   "source": [
    "y_pred, chosen_thresh = modelValuation(\"CatBoost\", Y_test, y_proba, use_best_threshold=True)"
   ]
  },
  {
   "cell_type": "code",
   "execution_count": null,
   "id": "ea5ee386",
   "metadata": {},
   "outputs": [],
   "source": [
    "y_pred, chosen_thresh = modelValuation(\"LightGBM\", Y_test, y_proba, use_best_threshold=False)"
   ]
  },
  {
   "cell_type": "code",
   "execution_count": null,
   "id": "fdbf6d16",
   "metadata": {},
   "outputs": [],
   "source": [
    "import joblib\n",
    "joblib.dump(y_proba, \"proba_cb.pkl\") "
   ]
  },
  {
   "cell_type": "code",
   "execution_count": null,
   "id": "63640df3",
   "metadata": {},
   "outputs": [],
   "source": []
  }
 ],
 "metadata": {
  "kernelspec": {
   "display_name": "Python 3",
   "language": "python",
   "name": "python3"
  },
  "language_info": {
   "codemirror_mode": {
    "name": "ipython",
    "version": 3
   },
   "file_extension": ".py",
   "mimetype": "text/x-python",
   "name": "python",
   "nbconvert_exporter": "python",
   "pygments_lexer": "ipython3",
   "version": "3.10.0"
  }
 },
 "nbformat": 4,
 "nbformat_minor": 5
}

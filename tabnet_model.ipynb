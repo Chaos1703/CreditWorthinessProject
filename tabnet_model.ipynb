{
 "cells": [
  {
   "cell_type": "code",
   "execution_count": null,
   "id": "a1bfa698",
   "metadata": {},
   "outputs": [],
   "source": [
    "from data_loader import load_and_prepare_data\n",
    "from credit_models import modelValuation\n",
    "from pytorch_tabnet.tab_model import TabNetClassifier\n",
    "from tuner import tune_model"
   ]
  },
  {
   "cell_type": "code",
   "execution_count": null,
   "id": "bb37805c",
   "metadata": {},
   "outputs": [],
   "source": [
    "(X_train, X_test, Y_train, Y_test), cat_idxs, cat_dims = load_and_prepare_data('tabnet')\n",
    "\n",
    "# Get best hyperparameters from tuning\n",
    "best_params = tune_model(\"tabnet\", X_train, Y_train, n_trials=10, n_splits=2 , cat_idxs= cat_idxs , cat_dims= cat_dims)\n",
    "\n",
    "# Prepare required fields from best_params\n",
    "tabnet_params = {\n",
    "    \"n_d\":              best_params[\"n_d\"],\n",
    "    \"n_a\":              best_params[\"n_a\"],\n",
    "    \"n_steps\":          best_params[\"n_steps\"],\n",
    "    \"gamma\":            best_params[\"gamma\"],\n",
    "    \"lambda_sparse\":    best_params[\"lambda_sparse\"],\n",
    "    \"optimizer_params\": {\"lr\": best_params[\"lr\"]},\n",
    "    \"mask_type\":        best_params[\"mask_type\"],\n",
    "    \"cat_emb_dim\":      best_params[\"cat_emb_dim\"],\n",
    "    \"verbose\":          0,\n",
    "    \"device_name\":      \"auto\",\n",
    "    \"cat_idxs\":         cat_idxs,\n",
    "    \"cat_dims\":         cat_dims,\n",
    "}\n",
    "\n",
    "\n",
    "# Train final model\n",
    "model = TabNetClassifier(**tabnet_params)\n",
    "model.fit(\n",
    "    X_train=X_train, y_train=Y_train,\n",
    "    eval_set=[(X_test, Y_test)],\n",
    "    eval_metric=[\"auc\"],\n",
    "    max_epochs=200,\n",
    "    patience=20,\n",
    "    batch_size=256,\n",
    "    virtual_batch_size=128,\n",
    "    weights=1\n",
    ")\n",
    "\n",
    "# Predict probabilities\n",
    "y_proba = model.predict_proba(X_test)[:, 1]\n"
   ]
  },
  {
   "cell_type": "code",
   "execution_count": null,
   "id": "c2fc3284",
   "metadata": {},
   "outputs": [],
   "source": [
    "y_pred, chosen_thresh = modelValuation(\"TabNet\", Y_test, y_proba, use_best_threshold=True)"
   ]
  },
  {
   "cell_type": "code",
   "execution_count": null,
   "id": "e3989337",
   "metadata": {},
   "outputs": [],
   "source": [
    "y_pred, chosen_thresh = modelValuation(\"TabNet\", Y_test, y_proba, use_best_threshold=False)"
   ]
  },
  {
   "cell_type": "code",
   "execution_count": null,
   "id": "09702e50",
   "metadata": {},
   "outputs": [],
   "source": [
    "import joblib\n",
    "joblib.dump(y_proba, \"proba_tab.pkl\")\n",
    "model.save_model(\"tabnet_model.zip\")\n"
   ]
  },
  {
   "cell_type": "code",
   "execution_count": null,
   "id": "40ff183f",
   "metadata": {},
   "outputs": [],
   "source": [
    "\n"
   ]
  },
  {
   "cell_type": "code",
   "execution_count": null,
   "id": "e206fdfa",
   "metadata": {},
   "outputs": [],
   "source": []
  }
 ],
 "metadata": {
  "kernelspec": {
   "display_name": "Python 3",
   "language": "python",
   "name": "python3"
  },
  "language_info": {
   "codemirror_mode": {
    "name": "ipython",
    "version": 3
   },
   "file_extension": ".py",
   "mimetype": "text/x-python",
   "name": "python",
   "nbconvert_exporter": "python",
   "pygments_lexer": "ipython3",
   "version": "3.10.0"
  }
 },
 "nbformat": 4,
 "nbformat_minor": 5
}

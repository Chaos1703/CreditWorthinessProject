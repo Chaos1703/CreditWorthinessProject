{
 "cells": [
  {
   "cell_type": "code",
   "execution_count": null,
   "id": "ce8f2b45",
   "metadata": {},
   "outputs": [],
   "source": [
    "from data_loader import load_and_prepare_data\n",
    "from credit_models import modelValuation\n",
    "from sklearn.ensemble import RandomForestClassifier\n",
    "from tuner import tune_model"
   ]
  },
  {
   "cell_type": "code",
   "execution_count": null,
   "id": "affb7ef3",
   "metadata": {},
   "outputs": [],
   "source": [
    "X_train, X_test, Y_train, Y_test = load_and_prepare_data('randomforest')\n",
    "best_params = tune_model(\"random_forest\", X_train, Y_train, n_trials=150, n_splits=7)\n",
    "model = RandomForestClassifier(**best_params, random_state=42, n_jobs=-1)\n",
    "model.fit(X_train, Y_train)\n",
    "\n",
    "y_proba = model.predict_proba(X_test)[:, 1]"
   ]
  },
  {
   "cell_type": "code",
   "execution_count": null,
   "id": "6cb52315",
   "metadata": {},
   "outputs": [],
   "source": [
    "y_pred, chosen_thresh = modelValuation(\"RandomForest\", Y_test, y_proba, use_best_threshold=True)"
   ]
  },
  {
   "cell_type": "code",
   "execution_count": null,
   "id": "74b8a628",
   "metadata": {},
   "outputs": [],
   "source": [
    "y_pred, chosen_thresh = modelValuation(\"RandomForest\", Y_test, y_proba, use_best_threshold=False)"
   ]
  },
  {
   "cell_type": "code",
   "execution_count": null,
   "id": "f67c3e94",
   "metadata": {},
   "outputs": [],
   "source": [
    "import joblib\n",
    "joblib.dump(y_proba, \"proba_rf.pkl\") "
   ]
  },
  {
   "cell_type": "code",
   "execution_count": null,
   "id": "cd0aee65",
   "metadata": {},
   "outputs": [],
   "source": []
  }
 ],
 "metadata": {
  "kernelspec": {
   "display_name": "Python 3",
   "language": "python",
   "name": "python3"
  },
  "language_info": {
   "codemirror_mode": {
    "name": "ipython",
    "version": 3
   },
   "file_extension": ".py",
   "mimetype": "text/x-python",
   "name": "python",
   "nbconvert_exporter": "python",
   "pygments_lexer": "ipython3",
   "version": "3.10.0"
  }
 },
 "nbformat": 4,
 "nbformat_minor": 5
}

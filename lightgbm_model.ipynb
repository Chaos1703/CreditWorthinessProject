{
 "cells": [
  {
   "cell_type": "code",
   "execution_count": null,
   "id": "f5543e24",
   "metadata": {},
   "outputs": [],
   "source": [
    "from data_loader import load_and_prepare_data\n",
    "from credit_models import modelValuation\n",
    "from lightgbm import LGBMClassifier\n",
    "from tuner import tune_model"
   ]
  },
  {
   "cell_type": "code",
   "execution_count": null,
   "id": "a82e4de1",
   "metadata": {},
   "outputs": [],
   "source": [
    "X_train, X_test, Y_train, Y_test = load_and_prepare_data('lightgbm')\n",
    "\n",
    "best_params = tune_model(\"lightgbm\" , X_train, Y_train, n_trials=300, n_splits=10)\n",
    "model = LGBMClassifier(**best_params, class_weight=\"balanced\", random_state=42, n_jobs=-1)\n",
    "model.fit(X_train, Y_train)\n",
    "\n",
    "\n",
    "y_proba = model.predict_proba(X_test)[:, 1]"
   ]
  },
  {
   "cell_type": "code",
   "execution_count": null,
   "id": "a6663eb0",
   "metadata": {},
   "outputs": [],
   "source": [
    "y_pred, chosen_thresh = modelValuation(\"LightGBM\", Y_test, y_proba, use_best_threshold=True)"
   ]
  },
  {
   "cell_type": "code",
   "execution_count": null,
   "id": "04d616c6",
   "metadata": {},
   "outputs": [],
   "source": [
    "y_pred, chosen_thresh = modelValuation(\"LightGBM\", Y_test, y_proba, use_best_threshold=False)"
   ]
  },
  {
   "cell_type": "code",
   "execution_count": null,
   "id": "6d280450",
   "metadata": {},
   "outputs": [],
   "source": [
    "import joblib\n",
    "joblib.dump(Y_test, \"Y_test.pkl\")\n",
    "joblib.dump(y_proba, \"proba_lightgbm.pkl\") \n"
   ]
  }
 ],
 "metadata": {
  "kernelspec": {
   "display_name": "Python 3",
   "language": "python",
   "name": "python3"
  },
  "language_info": {
   "codemirror_mode": {
    "name": "ipython",
    "version": 3
   },
   "file_extension": ".py",
   "mimetype": "text/x-python",
   "name": "python",
   "nbconvert_exporter": "python",
   "pygments_lexer": "ipython3",
   "version": "3.10.0"
  }
 },
 "nbformat": 4,
 "nbformat_minor": 5
}
